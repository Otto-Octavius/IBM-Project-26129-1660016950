{
  "metadata": {
    "language_info": {
      "codemirror_mode": {
        "name": "python",
        "version": 3
      },
      "file_extension": ".py",
      "mimetype": "text/x-python",
      "name": "python",
      "nbconvert_exporter": "python",
      "pygments_lexer": "ipython3",
      "version": "3.8"
    },
    "kernelspec": {
      "name": "python",
      "display_name": "Python (Pyodide)",
      "language": "python"
    },
    "colab": {
      "provenance": []
    }
  },
  "nbformat_minor": 0,
  "nbformat": 4,
  "cells": [
    {
      "cell_type": "markdown",
      "source": [
        "# Basic Python \n",
        "1. Split this string\n"
      ],
      "metadata": {
        "id": "hPTpmbiqcztg"
      }
    },
    {
      "cell_type": "code",
      "source": [
        "s = \"Hi there Sam!\""
      ],
      "metadata": {
        "id": "qll1kkfEczth"
      },
      "execution_count": null,
      "outputs": []
    },
    {
      "cell_type": "code",
      "source": [
        "s.split()"
      ],
      "metadata": {
        "trusted": true,
        "id": "-CKWzshYczti",
        "outputId": "d7806622-180e-496f-9054-da57152106e2"
      },
      "execution_count": null,
      "outputs": [
        {
          "execution_count": 13,
          "output_type": "execute_result",
          "data": {
            "text/plain": "['Hi', 'there', 'Sam!']"
          },
          "metadata": {}
        }
      ]
    },
    {
      "cell_type": "markdown",
      "source": [
        "2. Use .format() to print the following string.\n",
        "Output should be: The diameter of Earth is 12742 kilometers."
      ],
      "metadata": {
        "id": "1ubEAQQNcztj"
      }
    },
    {
      "cell_type": "code",
      "source": [
        "planet = \"Earth\"\n",
        "diameter = 12742\n",
        "'The diameter of {0} is {1} kilometer'.format(planet,diameter) "
      ],
      "metadata": {
        "trusted": true,
        "id": "ayxSAV7Wcztj",
        "outputId": "f638f5f9-7e35-44ca-ee39-22a73af1bbdb"
      },
      "execution_count": null,
      "outputs": [
        {
          "execution_count": 14,
          "output_type": "execute_result",
          "data": {
            "text/plain": "'The diameter of Earth is 12742 kilometer'"
          },
          "metadata": {}
        }
      ]
    },
    {
      "cell_type": "markdown",
      "source": [
        "3. In this nest dictionary grab the word \"hello\"\n"
      ],
      "metadata": {
        "id": "5faniFcncztk"
      }
    },
    {
      "cell_type": "code",
      "source": [
        "d = {'k1':[1,2,3,{'tricky':['oh','man','inception',{'target':[1,2,3,'hello']}]}]}\n",
        "print(d[\"k1\"][3][\"tricky\"][3][\"target\"][3])"
      ],
      "metadata": {
        "trusted": true,
        "id": "jnvhz6Gicztk",
        "outputId": "6f7c0228-abca-4e37-cb45-c41d071d2677"
      },
      "execution_count": null,
      "outputs": [
        {
          "name": "stdout",
          "text": "hello\n",
          "output_type": "stream"
        }
      ]
    },
    {
      "cell_type": "markdown",
      "source": [
        "# Numpy"
      ],
      "metadata": {
        "id": "wrtwMtLIcztl"
      }
    },
    {
      "cell_type": "markdown",
      "source": [
        "4.1 Create an array of 10 zeros?\n",
        "\n",
        "\n",
        "\n",
        "4.2 Create an array of 10 fives?"
      ],
      "metadata": {
        "id": "liSd5dTlcztl"
      }
    },
    {
      "cell_type": "code",
      "source": [
        "import numpy as np\n",
        "array1=np.zeros(10)\n",
        "print(array1)"
      ],
      "metadata": {
        "trusted": true,
        "id": "ldiSCVnncztl",
        "outputId": "7782d0f5-04dd-4270-da84-9dd46057bde1"
      },
      "execution_count": null,
      "outputs": [
        {
          "name": "stdout",
          "text": "[0. 0. 0. 0. 0. 0. 0. 0. 0. 0.]\n",
          "output_type": "stream"
        }
      ]
    },
    {
      "cell_type": "markdown",
      "source": [
        "5. Create an array of all the even integers from 20 to 35\n"
      ],
      "metadata": {
        "id": "N9aZBGUVcztm"
      }
    },
    {
      "cell_type": "code",
      "source": [
        "array2=np.ones(10)*5\n",
        "print(array2)"
      ],
      "metadata": {
        "trusted": true,
        "id": "0BD5gf6Pcztm",
        "outputId": "2f1d0995-a023-49f6-f529-7b51d7ec04f6"
      },
      "execution_count": null,
      "outputs": [
        {
          "name": "stdout",
          "text": "[5. 5. 5. 5. 5. 5. 5. 5. 5. 5.]\n",
          "output_type": "stream"
        }
      ]
    },
    {
      "cell_type": "code",
      "source": [
        "array3=np.arange(20,36,2)\n",
        "print(array3)"
      ],
      "metadata": {
        "trusted": true,
        "id": "Kwy1f4QYcztm",
        "outputId": "d04cd57d-de07-48c7-bac0-1d20885bab1f"
      },
      "execution_count": null,
      "outputs": [
        {
          "name": "stdout",
          "text": "[20 22 24 26 28 30 32 34]\n",
          "output_type": "stream"
        }
      ]
    },
    {
      "cell_type": "markdown",
      "source": [
        "6. Create a 3x3 matrix with values ranging from 0 to 8"
      ],
      "metadata": {
        "id": "5UamKPxFcztn"
      }
    },
    {
      "cell_type": "code",
      "source": [
        "x =  np.arange(0, 9).reshape(3,3)\n",
        "print(x)"
      ],
      "metadata": {
        "trusted": true,
        "id": "XLXwVGD5cztn",
        "outputId": "e9fd4b12-7a17-4096-eadf-7246c5faac81"
      },
      "execution_count": null,
      "outputs": [
        {
          "name": "stdout",
          "text": "[[0 1 2]\n [3 4 5]\n [6 7 8]]\n",
          "output_type": "stream"
        }
      ]
    },
    {
      "cell_type": "markdown",
      "source": [
        "7. Concatenate a and b\n",
        "a = np.array([1, 2, 3]), b = np.array([4, 5, 6])"
      ],
      "metadata": {
        "id": "m0G3D_56cztn"
      }
    },
    {
      "cell_type": "code",
      "source": [
        "a = np.array([1, 2, 3])\n",
        "b = np.array([4, 5, 6])\n",
        "#Concatenate \n",
        "np.concatenate((a,b),axis=None)"
      ],
      "metadata": {
        "trusted": true,
        "id": "esdFCenwczto",
        "outputId": "15b2a4df-771d-4eaf-e79e-37650a50c51e"
      },
      "execution_count": null,
      "outputs": [
        {
          "execution_count": 20,
          "output_type": "execute_result",
          "data": {
            "text/plain": "array([1, 2, 3, 4, 5, 6])"
          },
          "metadata": {}
        }
      ]
    },
    {
      "cell_type": "markdown",
      "source": [
        "# Pandas\n",
        "8. Create a dataframe with 3 rows and 2 columns"
      ],
      "metadata": {
        "id": "tgVowzasczto"
      }
    },
    {
      "cell_type": "code",
      "source": [
        "import pandas as pd"
      ],
      "metadata": {
        "trusted": true,
        "id": "M1CwXfJlczto"
      },
      "execution_count": null,
      "outputs": []
    },
    {
      "cell_type": "markdown",
      "source": [
        "1.Numpy arrays"
      ],
      "metadata": {
        "id": "33mHpLhDczto"
      }
    },
    {
      "cell_type": "code",
      "source": [
        "A = np.random.randint(10, size=(3,2))\n",
        "#dataframe\n",
        "df = pd.DataFrame(A,columns=['cola', 'colb'])\n",
        "df"
      ],
      "metadata": {
        "trusted": true,
        "id": "0IzpvKm4cztp",
        "outputId": "517c2c6d-b514-4723-dcde-c925c5c8b389"
      },
      "execution_count": null,
      "outputs": [
        {
          "execution_count": 22,
          "output_type": "execute_result",
          "data": {
            "text/plain": "   cola  colb\n0     7     0\n1     2     0\n2     8     4",
            "text/html": "<div>\n<style scoped>\n    .dataframe tbody tr th:only-of-type {\n        vertical-align: middle;\n    }\n\n    .dataframe tbody tr th {\n        vertical-align: top;\n    }\n\n    .dataframe thead th {\n        text-align: right;\n    }\n</style>\n<table border=\"1\" class=\"dataframe\">\n  <thead>\n    <tr style=\"text-align: right;\">\n      <th></th>\n      <th>cola</th>\n      <th>colb</th>\n    </tr>\n  </thead>\n  <tbody>\n    <tr>\n      <th>0</th>\n      <td>7</td>\n      <td>0</td>\n    </tr>\n    <tr>\n      <th>1</th>\n      <td>2</td>\n      <td>0</td>\n    </tr>\n    <tr>\n      <th>2</th>\n      <td>8</td>\n      <td>4</td>\n    </tr>\n  </tbody>\n</table>\n</div>"
          },
          "metadata": {}
        }
      ]
    },
    {
      "cell_type": "markdown",
      "source": [
        "2.Dictionary"
      ],
      "metadata": {
        "id": "zjRchGgjcztp"
      }
    },
    {
      "cell_type": "code",
      "source": [
        "dict_a = {\n",
        "   'col_a':[1,2,3], \n",
        "   'col_b': [2,5,6], \n",
        "}\n",
        "#dataframe\n",
        "df = pd.DataFrame(dict_a)\n",
        "df\n"
      ],
      "metadata": {
        "trusted": true,
        "id": "U_rmvbNFcztp",
        "outputId": "7873ffdd-cf40-4644-a5b8-3f41a57ad68b"
      },
      "execution_count": null,
      "outputs": [
        {
          "execution_count": 23,
          "output_type": "execute_result",
          "data": {
            "text/plain": "   col_a  col_b\n0      1      2\n1      2      5\n2      3      6",
            "text/html": "<div>\n<style scoped>\n    .dataframe tbody tr th:only-of-type {\n        vertical-align: middle;\n    }\n\n    .dataframe tbody tr th {\n        vertical-align: top;\n    }\n\n    .dataframe thead th {\n        text-align: right;\n    }\n</style>\n<table border=\"1\" class=\"dataframe\">\n  <thead>\n    <tr style=\"text-align: right;\">\n      <th></th>\n      <th>col_a</th>\n      <th>col_b</th>\n    </tr>\n  </thead>\n  <tbody>\n    <tr>\n      <th>0</th>\n      <td>1</td>\n      <td>2</td>\n    </tr>\n    <tr>\n      <th>1</th>\n      <td>2</td>\n      <td>5</td>\n    </tr>\n    <tr>\n      <th>2</th>\n      <td>3</td>\n      <td>6</td>\n    </tr>\n  </tbody>\n</table>\n</div>"
          },
          "metadata": {}
        }
      ]
    },
    {
      "cell_type": "markdown",
      "source": [
        "3.List"
      ],
      "metadata": {
        "id": "emO7xxSecztq"
      }
    },
    {
      "cell_type": "code",
      "source": [
        "lst_a = [['John', 23], ['Jane', 25], ['Mary', 21]]\n",
        "#dataframe\n",
        "df = pd.DataFrame(lst_a,columns=['Name', 'Age'])\n",
        "df\n"
      ],
      "metadata": {
        "trusted": true,
        "id": "_vHUrr1mcztq",
        "outputId": "8367724f-4a64-480c-cb36-d61f44087454"
      },
      "execution_count": null,
      "outputs": [
        {
          "execution_count": 24,
          "output_type": "execute_result",
          "data": {
            "text/plain": "   Name  Age\n0  John   23\n1  Jane   25\n2  Mary   21",
            "text/html": "<div>\n<style scoped>\n    .dataframe tbody tr th:only-of-type {\n        vertical-align: middle;\n    }\n\n    .dataframe tbody tr th {\n        vertical-align: top;\n    }\n\n    .dataframe thead th {\n        text-align: right;\n    }\n</style>\n<table border=\"1\" class=\"dataframe\">\n  <thead>\n    <tr style=\"text-align: right;\">\n      <th></th>\n      <th>Name</th>\n      <th>Age</th>\n    </tr>\n  </thead>\n  <tbody>\n    <tr>\n      <th>0</th>\n      <td>John</td>\n      <td>23</td>\n    </tr>\n    <tr>\n      <th>1</th>\n      <td>Jane</td>\n      <td>25</td>\n    </tr>\n    <tr>\n      <th>2</th>\n      <td>Mary</td>\n      <td>21</td>\n    </tr>\n  </tbody>\n</table>\n</div>"
          },
          "metadata": {}
        }
      ]
    },
    {
      "cell_type": "markdown",
      "source": [
        "`9. Generate the series of dates from 1st Jan, 2023 to 10th Feb, 2023"
      ],
      "metadata": {
        "id": "QxqwMylwcztq"
      }
    },
    {
      "cell_type": "code",
      "source": [
        "\n",
        "import pandas as pd\n",
        "  \n",
        "# calling DataFrame constructor\n",
        "df = pd.DataFrame()\n",
        "  \n",
        "# Create 6 dates\n",
        "df['time'] = pd.date_range(start=\"1/1/2023\",end=\"2/10/2023\", freq ='24H')\n",
        "  # print dataframe\n",
        "  \n",
        "# Extract features - year, month, day, hour, and minute\n",
        "df['year'] = df['time'].dt.year\n",
        "df['month'] = df['time'].dt.month\n",
        "df['day'] = df['time'].dt.day\n",
        "\n",
        "  \n",
        "# Show six rows\n",
        "df.head(len(df[\"time\"]))"
      ],
      "metadata": {
        "trusted": true,
        "id": "yJbUx6C1cztq",
        "outputId": "89d04626-8230-4fa3-862a-6bc13fc6e0d1"
      },
      "execution_count": null,
      "outputs": [
        {
          "execution_count": 25,
          "output_type": "execute_result",
          "data": {
            "text/plain": "         time  year  month  day\n0  2023-01-01  2023      1    1\n1  2023-01-02  2023      1    2\n2  2023-01-03  2023      1    3\n3  2023-01-04  2023      1    4\n4  2023-01-05  2023      1    5\n5  2023-01-06  2023      1    6\n6  2023-01-07  2023      1    7\n7  2023-01-08  2023      1    8\n8  2023-01-09  2023      1    9\n9  2023-01-10  2023      1   10\n10 2023-01-11  2023      1   11\n11 2023-01-12  2023      1   12\n12 2023-01-13  2023      1   13\n13 2023-01-14  2023      1   14\n14 2023-01-15  2023      1   15\n15 2023-01-16  2023      1   16\n16 2023-01-17  2023      1   17\n17 2023-01-18  2023      1   18\n18 2023-01-19  2023      1   19\n19 2023-01-20  2023      1   20\n20 2023-01-21  2023      1   21\n21 2023-01-22  2023      1   22\n22 2023-01-23  2023      1   23\n23 2023-01-24  2023      1   24\n24 2023-01-25  2023      1   25\n25 2023-01-26  2023      1   26\n26 2023-01-27  2023      1   27\n27 2023-01-28  2023      1   28\n28 2023-01-29  2023      1   29\n29 2023-01-30  2023      1   30\n30 2023-01-31  2023      1   31\n31 2023-02-01  2023      2    1\n32 2023-02-02  2023      2    2\n33 2023-02-03  2023      2    3\n34 2023-02-04  2023      2    4\n35 2023-02-05  2023      2    5\n36 2023-02-06  2023      2    6\n37 2023-02-07  2023      2    7\n38 2023-02-08  2023      2    8\n39 2023-02-09  2023      2    9\n40 2023-02-10  2023      2   10",
            "text/html": "<div>\n<style scoped>\n    .dataframe tbody tr th:only-of-type {\n        vertical-align: middle;\n    }\n\n    .dataframe tbody tr th {\n        vertical-align: top;\n    }\n\n    .dataframe thead th {\n        text-align: right;\n    }\n</style>\n<table border=\"1\" class=\"dataframe\">\n  <thead>\n    <tr style=\"text-align: right;\">\n      <th></th>\n      <th>time</th>\n      <th>year</th>\n      <th>month</th>\n      <th>day</th>\n    </tr>\n  </thead>\n  <tbody>\n    <tr>\n      <th>0</th>\n      <td>2023-01-01</td>\n      <td>2023</td>\n      <td>1</td>\n      <td>1</td>\n    </tr>\n    <tr>\n      <th>1</th>\n      <td>2023-01-02</td>\n      <td>2023</td>\n      <td>1</td>\n      <td>2</td>\n    </tr>\n    <tr>\n      <th>2</th>\n      <td>2023-01-03</td>\n      <td>2023</td>\n      <td>1</td>\n      <td>3</td>\n    </tr>\n    <tr>\n      <th>3</th>\n      <td>2023-01-04</td>\n      <td>2023</td>\n      <td>1</td>\n      <td>4</td>\n    </tr>\n    <tr>\n      <th>4</th>\n      <td>2023-01-05</td>\n      <td>2023</td>\n      <td>1</td>\n      <td>5</td>\n    </tr>\n    <tr>\n      <th>5</th>\n      <td>2023-01-06</td>\n      <td>2023</td>\n      <td>1</td>\n      <td>6</td>\n    </tr>\n    <tr>\n      <th>6</th>\n      <td>2023-01-07</td>\n      <td>2023</td>\n      <td>1</td>\n      <td>7</td>\n    </tr>\n    <tr>\n      <th>7</th>\n      <td>2023-01-08</td>\n      <td>2023</td>\n      <td>1</td>\n      <td>8</td>\n    </tr>\n    <tr>\n      <th>8</th>\n      <td>2023-01-09</td>\n      <td>2023</td>\n      <td>1</td>\n      <td>9</td>\n    </tr>\n    <tr>\n      <th>9</th>\n      <td>2023-01-10</td>\n      <td>2023</td>\n      <td>1</td>\n      <td>10</td>\n    </tr>\n    <tr>\n      <th>10</th>\n      <td>2023-01-11</td>\n      <td>2023</td>\n      <td>1</td>\n      <td>11</td>\n    </tr>\n    <tr>\n      <th>11</th>\n      <td>2023-01-12</td>\n      <td>2023</td>\n      <td>1</td>\n      <td>12</td>\n    </tr>\n    <tr>\n      <th>12</th>\n      <td>2023-01-13</td>\n      <td>2023</td>\n      <td>1</td>\n      <td>13</td>\n    </tr>\n    <tr>\n      <th>13</th>\n      <td>2023-01-14</td>\n      <td>2023</td>\n      <td>1</td>\n      <td>14</td>\n    </tr>\n    <tr>\n      <th>14</th>\n      <td>2023-01-15</td>\n      <td>2023</td>\n      <td>1</td>\n      <td>15</td>\n    </tr>\n    <tr>\n      <th>15</th>\n      <td>2023-01-16</td>\n      <td>2023</td>\n      <td>1</td>\n      <td>16</td>\n    </tr>\n    <tr>\n      <th>16</th>\n      <td>2023-01-17</td>\n      <td>2023</td>\n      <td>1</td>\n      <td>17</td>\n    </tr>\n    <tr>\n      <th>17</th>\n      <td>2023-01-18</td>\n      <td>2023</td>\n      <td>1</td>\n      <td>18</td>\n    </tr>\n    <tr>\n      <th>18</th>\n      <td>2023-01-19</td>\n      <td>2023</td>\n      <td>1</td>\n      <td>19</td>\n    </tr>\n    <tr>\n      <th>19</th>\n      <td>2023-01-20</td>\n      <td>2023</td>\n      <td>1</td>\n      <td>20</td>\n    </tr>\n    <tr>\n      <th>20</th>\n      <td>2023-01-21</td>\n      <td>2023</td>\n      <td>1</td>\n      <td>21</td>\n    </tr>\n    <tr>\n      <th>21</th>\n      <td>2023-01-22</td>\n      <td>2023</td>\n      <td>1</td>\n      <td>22</td>\n    </tr>\n    <tr>\n      <th>22</th>\n      <td>2023-01-23</td>\n      <td>2023</td>\n      <td>1</td>\n      <td>23</td>\n    </tr>\n    <tr>\n      <th>23</th>\n      <td>2023-01-24</td>\n      <td>2023</td>\n      <td>1</td>\n      <td>24</td>\n    </tr>\n    <tr>\n      <th>24</th>\n      <td>2023-01-25</td>\n      <td>2023</td>\n      <td>1</td>\n      <td>25</td>\n    </tr>\n    <tr>\n      <th>25</th>\n      <td>2023-01-26</td>\n      <td>2023</td>\n      <td>1</td>\n      <td>26</td>\n    </tr>\n    <tr>\n      <th>26</th>\n      <td>2023-01-27</td>\n      <td>2023</td>\n      <td>1</td>\n      <td>27</td>\n    </tr>\n    <tr>\n      <th>27</th>\n      <td>2023-01-28</td>\n      <td>2023</td>\n      <td>1</td>\n      <td>28</td>\n    </tr>\n    <tr>\n      <th>28</th>\n      <td>2023-01-29</td>\n      <td>2023</td>\n      <td>1</td>\n      <td>29</td>\n    </tr>\n    <tr>\n      <th>29</th>\n      <td>2023-01-30</td>\n      <td>2023</td>\n      <td>1</td>\n      <td>30</td>\n    </tr>\n    <tr>\n      <th>30</th>\n      <td>2023-01-31</td>\n      <td>2023</td>\n      <td>1</td>\n      <td>31</td>\n    </tr>\n    <tr>\n      <th>31</th>\n      <td>2023-02-01</td>\n      <td>2023</td>\n      <td>2</td>\n      <td>1</td>\n    </tr>\n    <tr>\n      <th>32</th>\n      <td>2023-02-02</td>\n      <td>2023</td>\n      <td>2</td>\n      <td>2</td>\n    </tr>\n    <tr>\n      <th>33</th>\n      <td>2023-02-03</td>\n      <td>2023</td>\n      <td>2</td>\n      <td>3</td>\n    </tr>\n    <tr>\n      <th>34</th>\n      <td>2023-02-04</td>\n      <td>2023</td>\n      <td>2</td>\n      <td>4</td>\n    </tr>\n    <tr>\n      <th>35</th>\n      <td>2023-02-05</td>\n      <td>2023</td>\n      <td>2</td>\n      <td>5</td>\n    </tr>\n    <tr>\n      <th>36</th>\n      <td>2023-02-06</td>\n      <td>2023</td>\n      <td>2</td>\n      <td>6</td>\n    </tr>\n    <tr>\n      <th>37</th>\n      <td>2023-02-07</td>\n      <td>2023</td>\n      <td>2</td>\n      <td>7</td>\n    </tr>\n    <tr>\n      <th>38</th>\n      <td>2023-02-08</td>\n      <td>2023</td>\n      <td>2</td>\n      <td>8</td>\n    </tr>\n    <tr>\n      <th>39</th>\n      <td>2023-02-09</td>\n      <td>2023</td>\n      <td>2</td>\n      <td>9</td>\n    </tr>\n    <tr>\n      <th>40</th>\n      <td>2023-02-10</td>\n      <td>2023</td>\n      <td>2</td>\n      <td>10</td>\n    </tr>\n  </tbody>\n</table>\n</div>"
          },
          "metadata": {}
        }
      ]
    },
    {
      "cell_type": "markdown",
      "source": [
        "10. Create 2D list to DataFrame"
      ],
      "metadata": {
        "id": "cjRuzYPTcztr"
      }
    },
    {
      "cell_type": "code",
      "source": [
        "lists = [[1, 'aaa', 22], [2, 'bbb', 25], [3, 'ccc', 24]]\n",
        "#2D list to DataFrame\n",
        "df = pd.DataFrame(lists, columns =['col1',\"col2\",\"col3\"]) \n",
        "df"
      ],
      "metadata": {
        "trusted": true,
        "id": "RsRaQeq0cztr",
        "outputId": "16903adc-dd84-42f1-c954-e636c083332c"
      },
      "execution_count": null,
      "outputs": [
        {
          "execution_count": 26,
          "output_type": "execute_result",
          "data": {
            "text/plain": "   col1 col2  col3\n0     1  aaa    22\n1     2  bbb    25\n2     3  ccc    24",
            "text/html": "<div>\n<style scoped>\n    .dataframe tbody tr th:only-of-type {\n        vertical-align: middle;\n    }\n\n    .dataframe tbody tr th {\n        vertical-align: top;\n    }\n\n    .dataframe thead th {\n        text-align: right;\n    }\n</style>\n<table border=\"1\" class=\"dataframe\">\n  <thead>\n    <tr style=\"text-align: right;\">\n      <th></th>\n      <th>col1</th>\n      <th>col2</th>\n      <th>col3</th>\n    </tr>\n  </thead>\n  <tbody>\n    <tr>\n      <th>0</th>\n      <td>1</td>\n      <td>aaa</td>\n      <td>22</td>\n    </tr>\n    <tr>\n      <th>1</th>\n      <td>2</td>\n      <td>bbb</td>\n      <td>25</td>\n    </tr>\n    <tr>\n      <th>2</th>\n      <td>3</td>\n      <td>ccc</td>\n      <td>24</td>\n    </tr>\n  </tbody>\n</table>\n</div>"
          },
          "metadata": {}
        }
      ]
    }
  ]
}